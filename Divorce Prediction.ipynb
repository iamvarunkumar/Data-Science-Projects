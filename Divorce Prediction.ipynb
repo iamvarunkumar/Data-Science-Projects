{
 "cells": [
  {
   "cell_type": "markdown",
   "id": "f2ce8505",
   "metadata": {},
   "source": [
    "# Divorce Prediction"
   ]
  },
  {
   "cell_type": "markdown",
   "id": "ac896438",
   "metadata": {},
   "source": [
    "### Questions are ranked on a scale of 1-5 with 1 being the lowest and 5 being the highest. The last category states if the couple has divorced.\n",
    "\n",
    "1.\tIf one of us apologizes when our discussion deteriorates, the discussion ends.\n",
    "2.\tI know we can ignore our differences, even if things get hard sometimes.\n",
    "3.\tWhen we need it, we can take our discussions with my spouse from the beginning and correct it.\n",
    "4.\tWhen I discuss with my spouse, to contact him will eventually work.\n",
    "5.\tThe time I spent with my wife is special for us.\n",
    "6.\tWe don't have time at home as partners.\n",
    "7.\tWe are like two strangers who share the same environment at home rather than family.\n",
    "8.\tI enjoy our holidays with my wife.\n",
    "9.\tI enjoy traveling with my wife.\n",
    "10.\tMost of our goals are common to my spouse.\n",
    "11.\tI think that one day in the future, when I look back, I see that my spouse and I have been in harmony with each other.\n",
    "12.\tMy spouse and I have similar values in terms of personal freedom.\n",
    "13.\tMy spouse and I have similar sense of entertainment.\n",
    "14.\tMost of our goals for people (children, friends, etc.) are the same.\n",
    "15.\tOur dreams with my spouse are similar and harmonious.\n",
    "16.\tWe're compatible with my spouse about what love should be.\n",
    "17.\tWe share the same views about being happy in our life with my spouse\n",
    "18.\tMy spouse and I have similar ideas about how marriage should be\n",
    "19.\tMy spouse and I have similar ideas about how roles should be in marriage\n",
    "20.\tMy spouse and I have similar values in trust.\n",
    "21.\tI know exactly what my wife likes.\n",
    "22.\tI know how my spouse wants to be taken care of when she/he sick.\n",
    "23.\tI know my spouse's favorite food.\n",
    "24.\tI can tell you what kind of stress my spouse is facing in her/his life.\n",
    "25.\tI have knowledge of my spouse's inner world.\n",
    "26.\tI know my spouse's basic anxieties.\n",
    "27.\tI know what my spouse's current sources of stress are.\n",
    "28.\tI know my spouse's hopes and wishes.\n",
    "29.\tI know my spouse very well.\n",
    "30.\tI know my spouse's friends and their social relationships.\n",
    "31.\tI feel aggressive when I argue with my spouse.\n",
    "32.\tWhen discussing with my spouse, I usually use expressions such as ‘you always’ or ‘you never’ .\n",
    "33.\tI can use negative statements about my spouse's personality during our discussions.\n",
    "34.\tI can use offensive expressions during our discussions.\n",
    "35.\tI can insult my spouse during our discussions.\n",
    "36.\tI can be humiliating when we discussions.\n",
    "37.\tMy discussion with my spouse is not calm.\n",
    "38.\tI hate my spouse's way of open a subject.\n",
    "39.\tOur discussions often occur suddenly.\n",
    "40.\tWe're just starting a discussion before I know what's going on.\n",
    "41.\tWhen I talk to my spouse about something, my calm suddenly breaks.\n",
    "42.\tWhen I argue with my spouse, ı only go out and I don't say a word.\n",
    "43.\tI mostly stay silent to calm the environment a little bit.\n",
    "44.\tSometimes I think it's good for me to leave home for a while.\n",
    "45.\tI'd rather stay silent than discuss with my spouse.\n",
    "46.\tEven if I'm right in the discussion, I stay silent to hurt my spouse.\n",
    "47.\tWhen I discuss with my spouse, I stay silent because I am afraid of not being able to control my anger.\n",
    "48.\tI feel right in our discussions.\n",
    "49.\tI have nothing to do with what I've been accused of.\n",
    "50.\tI'm not actually the one who's guilty about what I'm accused of.\n",
    "51.\tI'm not the one who's wrong about problems at home.\n",
    "52.\tI wouldn't hesitate to tell my spouse about her/his inadequacy.\n",
    "53.\tWhen I discuss, I remind my spouse of her/his inadequacy.\n",
    "54.\tI'm not afraid to tell my spouse about her/his incompetence.\n",
    "55. Divorce Y/N\n"
   ]
  },
  {
   "cell_type": "code",
   "execution_count": 45,
   "id": "d8fb1459",
   "metadata": {},
   "outputs": [],
   "source": [
    "import pandas as pd\n",
    "import matplotlib.pyplot as plt\n",
    "import seaborn as sns\n",
    "import warnings \n",
    "warnings.filterwarnings(\"ignore\")\n",
    "plt.style.use(\"seaborn\")\n",
    "import numpy as np"
   ]
  },
  {
   "cell_type": "code",
   "execution_count": 31,
   "id": "170fea6f",
   "metadata": {},
   "outputs": [],
   "source": [
    "df = pd.read_csv(\"data/divorce.csv\")"
   ]
  },
  {
   "cell_type": "code",
   "execution_count": 32,
   "id": "cb967dda",
   "metadata": {},
   "outputs": [
    {
     "data": {
      "text/html": [
       "<div>\n",
       "<style scoped>\n",
       "    .dataframe tbody tr th:only-of-type {\n",
       "        vertical-align: middle;\n",
       "    }\n",
       "\n",
       "    .dataframe tbody tr th {\n",
       "        vertical-align: top;\n",
       "    }\n",
       "\n",
       "    .dataframe thead th {\n",
       "        text-align: right;\n",
       "    }\n",
       "</style>\n",
       "<table border=\"1\" class=\"dataframe\">\n",
       "  <thead>\n",
       "    <tr style=\"text-align: right;\">\n",
       "      <th></th>\n",
       "      <th>Sorry_end</th>\n",
       "      <th>Ignore_diff</th>\n",
       "      <th>begin_correct</th>\n",
       "      <th>Contact</th>\n",
       "      <th>Special_time</th>\n",
       "      <th>No_home_time</th>\n",
       "      <th>2_strangers</th>\n",
       "      <th>enjoy_holiday</th>\n",
       "      <th>enjoy_travel</th>\n",
       "      <th>common_goals</th>\n",
       "      <th>...</th>\n",
       "      <th>silence_for_harm</th>\n",
       "      <th>silence_fear_anger</th>\n",
       "      <th>I'm_right</th>\n",
       "      <th>accusations</th>\n",
       "      <th>I'm_not_guilty</th>\n",
       "      <th>I'm_not_wrong</th>\n",
       "      <th>no_hesitancy_inadequate</th>\n",
       "      <th>you're_inadequate</th>\n",
       "      <th>incompetence</th>\n",
       "      <th>Divorce_Y_N</th>\n",
       "    </tr>\n",
       "  </thead>\n",
       "  <tbody>\n",
       "    <tr>\n",
       "      <th>0</th>\n",
       "      <td>2</td>\n",
       "      <td>2</td>\n",
       "      <td>4</td>\n",
       "      <td>1</td>\n",
       "      <td>0</td>\n",
       "      <td>0</td>\n",
       "      <td>0</td>\n",
       "      <td>0</td>\n",
       "      <td>0</td>\n",
       "      <td>0</td>\n",
       "      <td>...</td>\n",
       "      <td>2</td>\n",
       "      <td>1</td>\n",
       "      <td>3</td>\n",
       "      <td>3</td>\n",
       "      <td>3</td>\n",
       "      <td>2</td>\n",
       "      <td>3</td>\n",
       "      <td>2</td>\n",
       "      <td>1</td>\n",
       "      <td>1</td>\n",
       "    </tr>\n",
       "    <tr>\n",
       "      <th>1</th>\n",
       "      <td>4</td>\n",
       "      <td>4</td>\n",
       "      <td>4</td>\n",
       "      <td>4</td>\n",
       "      <td>4</td>\n",
       "      <td>0</td>\n",
       "      <td>0</td>\n",
       "      <td>4</td>\n",
       "      <td>4</td>\n",
       "      <td>4</td>\n",
       "      <td>...</td>\n",
       "      <td>2</td>\n",
       "      <td>2</td>\n",
       "      <td>3</td>\n",
       "      <td>4</td>\n",
       "      <td>4</td>\n",
       "      <td>4</td>\n",
       "      <td>4</td>\n",
       "      <td>2</td>\n",
       "      <td>2</td>\n",
       "      <td>1</td>\n",
       "    </tr>\n",
       "    <tr>\n",
       "      <th>2</th>\n",
       "      <td>2</td>\n",
       "      <td>2</td>\n",
       "      <td>2</td>\n",
       "      <td>2</td>\n",
       "      <td>1</td>\n",
       "      <td>3</td>\n",
       "      <td>2</td>\n",
       "      <td>1</td>\n",
       "      <td>1</td>\n",
       "      <td>2</td>\n",
       "      <td>...</td>\n",
       "      <td>3</td>\n",
       "      <td>2</td>\n",
       "      <td>3</td>\n",
       "      <td>1</td>\n",
       "      <td>1</td>\n",
       "      <td>1</td>\n",
       "      <td>2</td>\n",
       "      <td>2</td>\n",
       "      <td>2</td>\n",
       "      <td>1</td>\n",
       "    </tr>\n",
       "    <tr>\n",
       "      <th>3</th>\n",
       "      <td>3</td>\n",
       "      <td>2</td>\n",
       "      <td>3</td>\n",
       "      <td>2</td>\n",
       "      <td>3</td>\n",
       "      <td>3</td>\n",
       "      <td>3</td>\n",
       "      <td>3</td>\n",
       "      <td>3</td>\n",
       "      <td>3</td>\n",
       "      <td>...</td>\n",
       "      <td>2</td>\n",
       "      <td>2</td>\n",
       "      <td>3</td>\n",
       "      <td>3</td>\n",
       "      <td>3</td>\n",
       "      <td>3</td>\n",
       "      <td>2</td>\n",
       "      <td>2</td>\n",
       "      <td>2</td>\n",
       "      <td>1</td>\n",
       "    </tr>\n",
       "    <tr>\n",
       "      <th>4</th>\n",
       "      <td>2</td>\n",
       "      <td>2</td>\n",
       "      <td>1</td>\n",
       "      <td>1</td>\n",
       "      <td>1</td>\n",
       "      <td>1</td>\n",
       "      <td>0</td>\n",
       "      <td>0</td>\n",
       "      <td>0</td>\n",
       "      <td>0</td>\n",
       "      <td>...</td>\n",
       "      <td>2</td>\n",
       "      <td>1</td>\n",
       "      <td>2</td>\n",
       "      <td>3</td>\n",
       "      <td>2</td>\n",
       "      <td>2</td>\n",
       "      <td>2</td>\n",
       "      <td>1</td>\n",
       "      <td>0</td>\n",
       "      <td>1</td>\n",
       "    </tr>\n",
       "  </tbody>\n",
       "</table>\n",
       "<p>5 rows × 55 columns</p>\n",
       "</div>"
      ],
      "text/plain": [
       "   Sorry_end  Ignore_diff  begin_correct  Contact  Special_time  No_home_time  \\\n",
       "0          2            2              4        1             0             0   \n",
       "1          4            4              4        4             4             0   \n",
       "2          2            2              2        2             1             3   \n",
       "3          3            2              3        2             3             3   \n",
       "4          2            2              1        1             1             1   \n",
       "\n",
       "   2_strangers  enjoy_holiday  enjoy_travel  common_goals  ...  \\\n",
       "0            0              0             0             0  ...   \n",
       "1            0              4             4             4  ...   \n",
       "2            2              1             1             2  ...   \n",
       "3            3              3             3             3  ...   \n",
       "4            0              0             0             0  ...   \n",
       "\n",
       "   silence_for_harm  silence_fear_anger  I'm_right  accusations  \\\n",
       "0                 2                   1          3            3   \n",
       "1                 2                   2          3            4   \n",
       "2                 3                   2          3            1   \n",
       "3                 2                   2          3            3   \n",
       "4                 2                   1          2            3   \n",
       "\n",
       "   I'm_not_guilty  I'm_not_wrong  no_hesitancy_inadequate  you're_inadequate  \\\n",
       "0               3              2                        3                  2   \n",
       "1               4              4                        4                  2   \n",
       "2               1              1                        2                  2   \n",
       "3               3              3                        2                  2   \n",
       "4               2              2                        2                  1   \n",
       "\n",
       "   incompetence  Divorce_Y_N  \n",
       "0             1            1  \n",
       "1             2            1  \n",
       "2             2            1  \n",
       "3             2            1  \n",
       "4             0            1  \n",
       "\n",
       "[5 rows x 55 columns]"
      ]
     },
     "execution_count": 32,
     "metadata": {},
     "output_type": "execute_result"
    }
   ],
   "source": [
    "df.head()"
   ]
  },
  {
   "cell_type": "code",
   "execution_count": 33,
   "id": "6ad09158",
   "metadata": {},
   "outputs": [
    {
     "data": {
      "text/plain": [
       "Sorry_end                        0\n",
       "Ignore_diff                      0\n",
       "begin_correct                    0\n",
       "Contact                          0\n",
       "Special_time                     0\n",
       "No_home_time                     0\n",
       "2_strangers                      0\n",
       "enjoy_holiday                    0\n",
       "enjoy_travel                     0\n",
       "common_goals                     0\n",
       "harmony                          0\n",
       "freeom_value                     0\n",
       "entertain                        0\n",
       "people_goals                     0\n",
       "dreams                           0\n",
       "love                             0\n",
       "happy                            0\n",
       "marriage                         0\n",
       "roles                            0\n",
       "trust                            0\n",
       "likes                            0\n",
       "care_sick                        0\n",
       "fav_food                         0\n",
       "stresses                         0\n",
       "inner_world                      0\n",
       "anxieties                        0\n",
       "current_stress                   0\n",
       "hopes_wishes                     0\n",
       "know_well                        0\n",
       "friends_social                   0\n",
       "Aggro_argue                      0\n",
       "Always_never                     0\n",
       "negative_personality             0\n",
       "offensive_expressions            0\n",
       "insult                           0\n",
       "humiliate                        0\n",
       "not_calm                         0\n",
       "hate_subjects                    0\n",
       "sudden_discussion                0\n",
       "idk_what's_going_on              0\n",
       "calm_breaks                      0\n",
       "argue_then_leave                 0\n",
       "silent_for_calm                  0\n",
       "good_to_leave_home               0\n",
       "silence_instead_of_discussion    0\n",
       "silence_for_harm                 0\n",
       "silence_fear_anger               0\n",
       "I'm_right                        0\n",
       "accusations                      0\n",
       "I'm_not_guilty                   0\n",
       "I'm_not_wrong                    0\n",
       "no_hesitancy_inadequate          0\n",
       "you're_inadequate                0\n",
       "incompetence                     0\n",
       "Divorce_Y_N                      0\n",
       "dtype: int64"
      ]
     },
     "execution_count": 33,
     "metadata": {},
     "output_type": "execute_result"
    }
   ],
   "source": [
    "df.isna().sum()"
   ]
  },
  {
   "cell_type": "code",
   "execution_count": 34,
   "id": "904c7040",
   "metadata": {},
   "outputs": [
    {
     "name": "stdout",
     "output_type": "stream",
     "text": [
      "<class 'pandas.core.frame.DataFrame'>\n",
      "RangeIndex: 170 entries, 0 to 169\n",
      "Data columns (total 55 columns):\n",
      " #   Column                         Non-Null Count  Dtype\n",
      "---  ------                         --------------  -----\n",
      " 0   Sorry_end                      170 non-null    int64\n",
      " 1   Ignore_diff                    170 non-null    int64\n",
      " 2   begin_correct                  170 non-null    int64\n",
      " 3   Contact                        170 non-null    int64\n",
      " 4   Special_time                   170 non-null    int64\n",
      " 5   No_home_time                   170 non-null    int64\n",
      " 6   2_strangers                    170 non-null    int64\n",
      " 7   enjoy_holiday                  170 non-null    int64\n",
      " 8   enjoy_travel                   170 non-null    int64\n",
      " 9   common_goals                   170 non-null    int64\n",
      " 10  harmony                        170 non-null    int64\n",
      " 11  freeom_value                   170 non-null    int64\n",
      " 12  entertain                      170 non-null    int64\n",
      " 13  people_goals                   170 non-null    int64\n",
      " 14  dreams                         170 non-null    int64\n",
      " 15  love                           170 non-null    int64\n",
      " 16  happy                          170 non-null    int64\n",
      " 17  marriage                       170 non-null    int64\n",
      " 18  roles                          170 non-null    int64\n",
      " 19  trust                          170 non-null    int64\n",
      " 20  likes                          170 non-null    int64\n",
      " 21  care_sick                      170 non-null    int64\n",
      " 22  fav_food                       170 non-null    int64\n",
      " 23  stresses                       170 non-null    int64\n",
      " 24  inner_world                    170 non-null    int64\n",
      " 25  anxieties                      170 non-null    int64\n",
      " 26  current_stress                 170 non-null    int64\n",
      " 27  hopes_wishes                   170 non-null    int64\n",
      " 28  know_well                      170 non-null    int64\n",
      " 29  friends_social                 170 non-null    int64\n",
      " 30  Aggro_argue                    170 non-null    int64\n",
      " 31  Always_never                   170 non-null    int64\n",
      " 32  negative_personality           170 non-null    int64\n",
      " 33  offensive_expressions          170 non-null    int64\n",
      " 34  insult                         170 non-null    int64\n",
      " 35  humiliate                      170 non-null    int64\n",
      " 36  not_calm                       170 non-null    int64\n",
      " 37  hate_subjects                  170 non-null    int64\n",
      " 38  sudden_discussion              170 non-null    int64\n",
      " 39  idk_what's_going_on            170 non-null    int64\n",
      " 40  calm_breaks                    170 non-null    int64\n",
      " 41  argue_then_leave               170 non-null    int64\n",
      " 42  silent_for_calm                170 non-null    int64\n",
      " 43  good_to_leave_home             170 non-null    int64\n",
      " 44  silence_instead_of_discussion  170 non-null    int64\n",
      " 45  silence_for_harm               170 non-null    int64\n",
      " 46  silence_fear_anger             170 non-null    int64\n",
      " 47  I'm_right                      170 non-null    int64\n",
      " 48  accusations                    170 non-null    int64\n",
      " 49  I'm_not_guilty                 170 non-null    int64\n",
      " 50  I'm_not_wrong                  170 non-null    int64\n",
      " 51  no_hesitancy_inadequate        170 non-null    int64\n",
      " 52  you're_inadequate              170 non-null    int64\n",
      " 53  incompetence                   170 non-null    int64\n",
      " 54  Divorce_Y_N                    170 non-null    int64\n",
      "dtypes: int64(55)\n",
      "memory usage: 73.2 KB\n"
     ]
    }
   ],
   "source": [
    "df.info()"
   ]
  },
  {
   "cell_type": "code",
   "execution_count": 35,
   "id": "7c980fe9",
   "metadata": {
    "scrolled": true
   },
   "outputs": [
    {
     "data": {
      "text/html": [
       "<div>\n",
       "<style scoped>\n",
       "    .dataframe tbody tr th:only-of-type {\n",
       "        vertical-align: middle;\n",
       "    }\n",
       "\n",
       "    .dataframe tbody tr th {\n",
       "        vertical-align: top;\n",
       "    }\n",
       "\n",
       "    .dataframe thead th {\n",
       "        text-align: right;\n",
       "    }\n",
       "</style>\n",
       "<table border=\"1\" class=\"dataframe\">\n",
       "  <thead>\n",
       "    <tr style=\"text-align: right;\">\n",
       "      <th></th>\n",
       "      <th>Sorry_end</th>\n",
       "      <th>Ignore_diff</th>\n",
       "      <th>begin_correct</th>\n",
       "      <th>Contact</th>\n",
       "      <th>Special_time</th>\n",
       "      <th>No_home_time</th>\n",
       "      <th>2_strangers</th>\n",
       "      <th>enjoy_holiday</th>\n",
       "      <th>enjoy_travel</th>\n",
       "      <th>common_goals</th>\n",
       "      <th>...</th>\n",
       "      <th>silence_for_harm</th>\n",
       "      <th>silence_fear_anger</th>\n",
       "      <th>I'm_right</th>\n",
       "      <th>accusations</th>\n",
       "      <th>I'm_not_guilty</th>\n",
       "      <th>I'm_not_wrong</th>\n",
       "      <th>no_hesitancy_inadequate</th>\n",
       "      <th>you're_inadequate</th>\n",
       "      <th>incompetence</th>\n",
       "      <th>Divorce_Y_N</th>\n",
       "    </tr>\n",
       "  </thead>\n",
       "  <tbody>\n",
       "    <tr>\n",
       "      <th>count</th>\n",
       "      <td>170.000000</td>\n",
       "      <td>170.000000</td>\n",
       "      <td>170.000000</td>\n",
       "      <td>170.000000</td>\n",
       "      <td>170.000000</td>\n",
       "      <td>170.000000</td>\n",
       "      <td>170.000000</td>\n",
       "      <td>170.000000</td>\n",
       "      <td>170.000000</td>\n",
       "      <td>170.000000</td>\n",
       "      <td>...</td>\n",
       "      <td>170.000000</td>\n",
       "      <td>170.000000</td>\n",
       "      <td>170.000000</td>\n",
       "      <td>170.000000</td>\n",
       "      <td>170.000000</td>\n",
       "      <td>170.000000</td>\n",
       "      <td>170.000000</td>\n",
       "      <td>170.000000</td>\n",
       "      <td>170.000000</td>\n",
       "      <td>170.000000</td>\n",
       "    </tr>\n",
       "    <tr>\n",
       "      <th>mean</th>\n",
       "      <td>1.776471</td>\n",
       "      <td>1.652941</td>\n",
       "      <td>1.764706</td>\n",
       "      <td>1.482353</td>\n",
       "      <td>1.541176</td>\n",
       "      <td>0.747059</td>\n",
       "      <td>0.494118</td>\n",
       "      <td>1.452941</td>\n",
       "      <td>1.458824</td>\n",
       "      <td>1.576471</td>\n",
       "      <td>...</td>\n",
       "      <td>2.552941</td>\n",
       "      <td>2.270588</td>\n",
       "      <td>2.741176</td>\n",
       "      <td>2.382353</td>\n",
       "      <td>2.429412</td>\n",
       "      <td>2.476471</td>\n",
       "      <td>2.517647</td>\n",
       "      <td>2.241176</td>\n",
       "      <td>2.011765</td>\n",
       "      <td>0.494118</td>\n",
       "    </tr>\n",
       "    <tr>\n",
       "      <th>std</th>\n",
       "      <td>1.627257</td>\n",
       "      <td>1.468654</td>\n",
       "      <td>1.415444</td>\n",
       "      <td>1.504327</td>\n",
       "      <td>1.632169</td>\n",
       "      <td>0.904046</td>\n",
       "      <td>0.898698</td>\n",
       "      <td>1.546371</td>\n",
       "      <td>1.557976</td>\n",
       "      <td>1.421529</td>\n",
       "      <td>...</td>\n",
       "      <td>1.371786</td>\n",
       "      <td>1.586841</td>\n",
       "      <td>1.137348</td>\n",
       "      <td>1.511587</td>\n",
       "      <td>1.405090</td>\n",
       "      <td>1.260238</td>\n",
       "      <td>1.476537</td>\n",
       "      <td>1.505634</td>\n",
       "      <td>1.667611</td>\n",
       "      <td>0.501442</td>\n",
       "    </tr>\n",
       "    <tr>\n",
       "      <th>min</th>\n",
       "      <td>0.000000</td>\n",
       "      <td>0.000000</td>\n",
       "      <td>0.000000</td>\n",
       "      <td>0.000000</td>\n",
       "      <td>0.000000</td>\n",
       "      <td>0.000000</td>\n",
       "      <td>0.000000</td>\n",
       "      <td>0.000000</td>\n",
       "      <td>0.000000</td>\n",
       "      <td>0.000000</td>\n",
       "      <td>...</td>\n",
       "      <td>0.000000</td>\n",
       "      <td>0.000000</td>\n",
       "      <td>0.000000</td>\n",
       "      <td>0.000000</td>\n",
       "      <td>0.000000</td>\n",
       "      <td>0.000000</td>\n",
       "      <td>0.000000</td>\n",
       "      <td>0.000000</td>\n",
       "      <td>0.000000</td>\n",
       "      <td>0.000000</td>\n",
       "    </tr>\n",
       "    <tr>\n",
       "      <th>25%</th>\n",
       "      <td>0.000000</td>\n",
       "      <td>0.000000</td>\n",
       "      <td>0.000000</td>\n",
       "      <td>0.000000</td>\n",
       "      <td>0.000000</td>\n",
       "      <td>0.000000</td>\n",
       "      <td>0.000000</td>\n",
       "      <td>0.000000</td>\n",
       "      <td>0.000000</td>\n",
       "      <td>0.000000</td>\n",
       "      <td>...</td>\n",
       "      <td>2.000000</td>\n",
       "      <td>1.000000</td>\n",
       "      <td>2.000000</td>\n",
       "      <td>1.000000</td>\n",
       "      <td>1.000000</td>\n",
       "      <td>2.000000</td>\n",
       "      <td>1.000000</td>\n",
       "      <td>1.000000</td>\n",
       "      <td>0.000000</td>\n",
       "      <td>0.000000</td>\n",
       "    </tr>\n",
       "    <tr>\n",
       "      <th>50%</th>\n",
       "      <td>2.000000</td>\n",
       "      <td>2.000000</td>\n",
       "      <td>2.000000</td>\n",
       "      <td>1.000000</td>\n",
       "      <td>1.000000</td>\n",
       "      <td>0.000000</td>\n",
       "      <td>0.000000</td>\n",
       "      <td>1.000000</td>\n",
       "      <td>1.000000</td>\n",
       "      <td>2.000000</td>\n",
       "      <td>...</td>\n",
       "      <td>3.000000</td>\n",
       "      <td>2.000000</td>\n",
       "      <td>3.000000</td>\n",
       "      <td>3.000000</td>\n",
       "      <td>2.000000</td>\n",
       "      <td>3.000000</td>\n",
       "      <td>3.000000</td>\n",
       "      <td>2.000000</td>\n",
       "      <td>2.000000</td>\n",
       "      <td>0.000000</td>\n",
       "    </tr>\n",
       "    <tr>\n",
       "      <th>75%</th>\n",
       "      <td>3.000000</td>\n",
       "      <td>3.000000</td>\n",
       "      <td>3.000000</td>\n",
       "      <td>3.000000</td>\n",
       "      <td>3.000000</td>\n",
       "      <td>1.000000</td>\n",
       "      <td>1.000000</td>\n",
       "      <td>3.000000</td>\n",
       "      <td>3.000000</td>\n",
       "      <td>3.000000</td>\n",
       "      <td>...</td>\n",
       "      <td>4.000000</td>\n",
       "      <td>4.000000</td>\n",
       "      <td>4.000000</td>\n",
       "      <td>4.000000</td>\n",
       "      <td>4.000000</td>\n",
       "      <td>4.000000</td>\n",
       "      <td>4.000000</td>\n",
       "      <td>4.000000</td>\n",
       "      <td>4.000000</td>\n",
       "      <td>1.000000</td>\n",
       "    </tr>\n",
       "    <tr>\n",
       "      <th>max</th>\n",
       "      <td>4.000000</td>\n",
       "      <td>4.000000</td>\n",
       "      <td>4.000000</td>\n",
       "      <td>4.000000</td>\n",
       "      <td>4.000000</td>\n",
       "      <td>4.000000</td>\n",
       "      <td>4.000000</td>\n",
       "      <td>4.000000</td>\n",
       "      <td>4.000000</td>\n",
       "      <td>4.000000</td>\n",
       "      <td>...</td>\n",
       "      <td>4.000000</td>\n",
       "      <td>4.000000</td>\n",
       "      <td>4.000000</td>\n",
       "      <td>4.000000</td>\n",
       "      <td>4.000000</td>\n",
       "      <td>4.000000</td>\n",
       "      <td>4.000000</td>\n",
       "      <td>4.000000</td>\n",
       "      <td>4.000000</td>\n",
       "      <td>1.000000</td>\n",
       "    </tr>\n",
       "  </tbody>\n",
       "</table>\n",
       "<p>8 rows × 55 columns</p>\n",
       "</div>"
      ],
      "text/plain": [
       "        Sorry_end  Ignore_diff  begin_correct     Contact  Special_time  \\\n",
       "count  170.000000   170.000000     170.000000  170.000000    170.000000   \n",
       "mean     1.776471     1.652941       1.764706    1.482353      1.541176   \n",
       "std      1.627257     1.468654       1.415444    1.504327      1.632169   \n",
       "min      0.000000     0.000000       0.000000    0.000000      0.000000   \n",
       "25%      0.000000     0.000000       0.000000    0.000000      0.000000   \n",
       "50%      2.000000     2.000000       2.000000    1.000000      1.000000   \n",
       "75%      3.000000     3.000000       3.000000    3.000000      3.000000   \n",
       "max      4.000000     4.000000       4.000000    4.000000      4.000000   \n",
       "\n",
       "       No_home_time  2_strangers  enjoy_holiday  enjoy_travel  common_goals  \\\n",
       "count    170.000000   170.000000     170.000000    170.000000    170.000000   \n",
       "mean       0.747059     0.494118       1.452941      1.458824      1.576471   \n",
       "std        0.904046     0.898698       1.546371      1.557976      1.421529   \n",
       "min        0.000000     0.000000       0.000000      0.000000      0.000000   \n",
       "25%        0.000000     0.000000       0.000000      0.000000      0.000000   \n",
       "50%        0.000000     0.000000       1.000000      1.000000      2.000000   \n",
       "75%        1.000000     1.000000       3.000000      3.000000      3.000000   \n",
       "max        4.000000     4.000000       4.000000      4.000000      4.000000   \n",
       "\n",
       "       ...  silence_for_harm  silence_fear_anger   I'm_right  accusations  \\\n",
       "count  ...        170.000000          170.000000  170.000000   170.000000   \n",
       "mean   ...          2.552941            2.270588    2.741176     2.382353   \n",
       "std    ...          1.371786            1.586841    1.137348     1.511587   \n",
       "min    ...          0.000000            0.000000    0.000000     0.000000   \n",
       "25%    ...          2.000000            1.000000    2.000000     1.000000   \n",
       "50%    ...          3.000000            2.000000    3.000000     3.000000   \n",
       "75%    ...          4.000000            4.000000    4.000000     4.000000   \n",
       "max    ...          4.000000            4.000000    4.000000     4.000000   \n",
       "\n",
       "       I'm_not_guilty  I'm_not_wrong  no_hesitancy_inadequate  \\\n",
       "count      170.000000     170.000000               170.000000   \n",
       "mean         2.429412       2.476471                 2.517647   \n",
       "std          1.405090       1.260238                 1.476537   \n",
       "min          0.000000       0.000000                 0.000000   \n",
       "25%          1.000000       2.000000                 1.000000   \n",
       "50%          2.000000       3.000000                 3.000000   \n",
       "75%          4.000000       4.000000                 4.000000   \n",
       "max          4.000000       4.000000                 4.000000   \n",
       "\n",
       "       you're_inadequate  incompetence  Divorce_Y_N  \n",
       "count         170.000000    170.000000   170.000000  \n",
       "mean            2.241176      2.011765     0.494118  \n",
       "std             1.505634      1.667611     0.501442  \n",
       "min             0.000000      0.000000     0.000000  \n",
       "25%             1.000000      0.000000     0.000000  \n",
       "50%             2.000000      2.000000     0.000000  \n",
       "75%             4.000000      4.000000     1.000000  \n",
       "max             4.000000      4.000000     1.000000  \n",
       "\n",
       "[8 rows x 55 columns]"
      ]
     },
     "execution_count": 35,
     "metadata": {},
     "output_type": "execute_result"
    }
   ],
   "source": [
    "df.describe()"
   ]
  },
  {
   "cell_type": "code",
   "execution_count": 36,
   "id": "9f8c03a1",
   "metadata": {},
   "outputs": [
    {
     "data": {
      "text/html": [
       "<div>\n",
       "<style scoped>\n",
       "    .dataframe tbody tr th:only-of-type {\n",
       "        vertical-align: middle;\n",
       "    }\n",
       "\n",
       "    .dataframe tbody tr th {\n",
       "        vertical-align: top;\n",
       "    }\n",
       "\n",
       "    .dataframe thead th {\n",
       "        text-align: right;\n",
       "    }\n",
       "</style>\n",
       "<table border=\"1\" class=\"dataframe\">\n",
       "  <thead>\n",
       "    <tr style=\"text-align: right;\">\n",
       "      <th></th>\n",
       "      <th>Sorry_end</th>\n",
       "      <th>Ignore_diff</th>\n",
       "      <th>begin_correct</th>\n",
       "      <th>Contact</th>\n",
       "      <th>Special_time</th>\n",
       "      <th>No_home_time</th>\n",
       "      <th>2_strangers</th>\n",
       "      <th>enjoy_holiday</th>\n",
       "      <th>enjoy_travel</th>\n",
       "      <th>common_goals</th>\n",
       "    </tr>\n",
       "  </thead>\n",
       "  <tbody>\n",
       "    <tr>\n",
       "      <th>0</th>\n",
       "      <td>2</td>\n",
       "      <td>2</td>\n",
       "      <td>4</td>\n",
       "      <td>1</td>\n",
       "      <td>0</td>\n",
       "      <td>0</td>\n",
       "      <td>0</td>\n",
       "      <td>0</td>\n",
       "      <td>0</td>\n",
       "      <td>0</td>\n",
       "    </tr>\n",
       "    <tr>\n",
       "      <th>1</th>\n",
       "      <td>4</td>\n",
       "      <td>4</td>\n",
       "      <td>4</td>\n",
       "      <td>4</td>\n",
       "      <td>4</td>\n",
       "      <td>0</td>\n",
       "      <td>0</td>\n",
       "      <td>4</td>\n",
       "      <td>4</td>\n",
       "      <td>4</td>\n",
       "    </tr>\n",
       "    <tr>\n",
       "      <th>2</th>\n",
       "      <td>2</td>\n",
       "      <td>2</td>\n",
       "      <td>2</td>\n",
       "      <td>2</td>\n",
       "      <td>1</td>\n",
       "      <td>3</td>\n",
       "      <td>2</td>\n",
       "      <td>1</td>\n",
       "      <td>1</td>\n",
       "      <td>2</td>\n",
       "    </tr>\n",
       "    <tr>\n",
       "      <th>3</th>\n",
       "      <td>3</td>\n",
       "      <td>2</td>\n",
       "      <td>3</td>\n",
       "      <td>2</td>\n",
       "      <td>3</td>\n",
       "      <td>3</td>\n",
       "      <td>3</td>\n",
       "      <td>3</td>\n",
       "      <td>3</td>\n",
       "      <td>3</td>\n",
       "    </tr>\n",
       "    <tr>\n",
       "      <th>4</th>\n",
       "      <td>2</td>\n",
       "      <td>2</td>\n",
       "      <td>1</td>\n",
       "      <td>1</td>\n",
       "      <td>1</td>\n",
       "      <td>1</td>\n",
       "      <td>0</td>\n",
       "      <td>0</td>\n",
       "      <td>0</td>\n",
       "      <td>0</td>\n",
       "    </tr>\n",
       "    <tr>\n",
       "      <th>...</th>\n",
       "      <td>...</td>\n",
       "      <td>...</td>\n",
       "      <td>...</td>\n",
       "      <td>...</td>\n",
       "      <td>...</td>\n",
       "      <td>...</td>\n",
       "      <td>...</td>\n",
       "      <td>...</td>\n",
       "      <td>...</td>\n",
       "      <td>...</td>\n",
       "    </tr>\n",
       "    <tr>\n",
       "      <th>165</th>\n",
       "      <td>0</td>\n",
       "      <td>0</td>\n",
       "      <td>0</td>\n",
       "      <td>0</td>\n",
       "      <td>0</td>\n",
       "      <td>0</td>\n",
       "      <td>0</td>\n",
       "      <td>0</td>\n",
       "      <td>0</td>\n",
       "      <td>0</td>\n",
       "    </tr>\n",
       "    <tr>\n",
       "      <th>166</th>\n",
       "      <td>0</td>\n",
       "      <td>0</td>\n",
       "      <td>0</td>\n",
       "      <td>0</td>\n",
       "      <td>0</td>\n",
       "      <td>0</td>\n",
       "      <td>0</td>\n",
       "      <td>0</td>\n",
       "      <td>0</td>\n",
       "      <td>0</td>\n",
       "    </tr>\n",
       "    <tr>\n",
       "      <th>167</th>\n",
       "      <td>1</td>\n",
       "      <td>1</td>\n",
       "      <td>0</td>\n",
       "      <td>0</td>\n",
       "      <td>0</td>\n",
       "      <td>0</td>\n",
       "      <td>0</td>\n",
       "      <td>0</td>\n",
       "      <td>0</td>\n",
       "      <td>1</td>\n",
       "    </tr>\n",
       "    <tr>\n",
       "      <th>168</th>\n",
       "      <td>0</td>\n",
       "      <td>0</td>\n",
       "      <td>0</td>\n",
       "      <td>0</td>\n",
       "      <td>0</td>\n",
       "      <td>0</td>\n",
       "      <td>0</td>\n",
       "      <td>0</td>\n",
       "      <td>0</td>\n",
       "      <td>0</td>\n",
       "    </tr>\n",
       "    <tr>\n",
       "      <th>169</th>\n",
       "      <td>0</td>\n",
       "      <td>0</td>\n",
       "      <td>0</td>\n",
       "      <td>0</td>\n",
       "      <td>0</td>\n",
       "      <td>0</td>\n",
       "      <td>0</td>\n",
       "      <td>1</td>\n",
       "      <td>0</td>\n",
       "      <td>0</td>\n",
       "    </tr>\n",
       "  </tbody>\n",
       "</table>\n",
       "<p>170 rows × 10 columns</p>\n",
       "</div>"
      ],
      "text/plain": [
       "     Sorry_end  Ignore_diff  begin_correct  Contact  Special_time  \\\n",
       "0            2            2              4        1             0   \n",
       "1            4            4              4        4             4   \n",
       "2            2            2              2        2             1   \n",
       "3            3            2              3        2             3   \n",
       "4            2            2              1        1             1   \n",
       "..         ...          ...            ...      ...           ...   \n",
       "165          0            0              0        0             0   \n",
       "166          0            0              0        0             0   \n",
       "167          1            1              0        0             0   \n",
       "168          0            0              0        0             0   \n",
       "169          0            0              0        0             0   \n",
       "\n",
       "     No_home_time  2_strangers  enjoy_holiday  enjoy_travel  common_goals  \n",
       "0               0            0              0             0             0  \n",
       "1               0            0              4             4             4  \n",
       "2               3            2              1             1             2  \n",
       "3               3            3              3             3             3  \n",
       "4               1            0              0             0             0  \n",
       "..            ...          ...            ...           ...           ...  \n",
       "165             0            0              0             0             0  \n",
       "166             0            0              0             0             0  \n",
       "167             0            0              0             0             1  \n",
       "168             0            0              0             0             0  \n",
       "169             0            0              1             0             0  \n",
       "\n",
       "[170 rows x 10 columns]"
      ]
     },
     "execution_count": 36,
     "metadata": {},
     "output_type": "execute_result"
    }
   ],
   "source": [
    "df.loc[:,'Sorry_end':'common_goals']"
   ]
  },
  {
   "cell_type": "code",
   "execution_count": 37,
   "id": "68f2028e",
   "metadata": {},
   "outputs": [],
   "source": [
    "X = df.drop('Divorce_Y_N',axis=1)\n",
    "y = df['Divorce_Y_N']"
   ]
  },
  {
   "cell_type": "code",
   "execution_count": 41,
   "id": "57b472a8",
   "metadata": {},
   "outputs": [],
   "source": [
    "from sklearn.model_selection import train_test_split, GridSearchCV"
   ]
  },
  {
   "cell_type": "code",
   "execution_count": 39,
   "id": "c9ac376f",
   "metadata": {},
   "outputs": [],
   "source": [
    "X_train, X_test, y_train, y_test = train_test_split(X,y,test_size=0.2,random_state=42,stratify=y)"
   ]
  },
  {
   "cell_type": "code",
   "execution_count": 40,
   "id": "f346b264",
   "metadata": {},
   "outputs": [
    {
     "data": {
      "text/plain": [
       "((136, 54), (34, 54), (136,), (34,))"
      ]
     },
     "execution_count": 40,
     "metadata": {},
     "output_type": "execute_result"
    }
   ],
   "source": [
    "X_train.shape, X_test.shape, y_train.shape, y_test.shape"
   ]
  },
  {
   "cell_type": "code",
   "execution_count": 48,
   "id": "f946b214",
   "metadata": {},
   "outputs": [],
   "source": [
    "from sklearn.linear_model import LogisticRegression\n",
    "from sklearn.pipeline import Pipeline\n",
    "from sklearn.preprocessing import StandardScaler"
   ]
  },
  {
   "cell_type": "code",
   "execution_count": 49,
   "id": "f5cdd310",
   "metadata": {},
   "outputs": [],
   "source": [
    "estimator = Pipeline([('scaler', StandardScaler()),\n",
    "                     ('logistic_regression', LogisticRegression(solver='liblinear'))])\n",
    "params = {\"logistic_regression__penalty\" : ['l1','l2'],\n",
    "    \"logistic_regression__C\" : np.linspace(0.001,100)\n",
    "}\n",
    "grid = GridSearchCV(estimator,\n",
    "                   params,\n",
    "                   cv=5,\n",
    "                   verbose=True,\n",
    "                   n_jobs=-1,\n",
    "                   scoring='recall')"
   ]
  },
  {
   "cell_type": "code",
   "execution_count": 50,
   "id": "c74efab5",
   "metadata": {},
   "outputs": [
    {
     "name": "stdout",
     "output_type": "stream",
     "text": [
      "Fitting 5 folds for each of 100 candidates, totalling 500 fits\n"
     ]
    },
    {
     "data": {
      "text/plain": [
       "GridSearchCV(cv=5,\n",
       "             estimator=Pipeline(steps=[('scaler', StandardScaler()),\n",
       "                                       ('logistic_regression',\n",
       "                                        LogisticRegression(solver='liblinear'))]),\n",
       "             n_jobs=-1,\n",
       "             param_grid={'logistic_regression__C': array([1.00000000e-03, 2.04179592e+00, 4.08259184e+00, 6.12338776e+00,\n",
       "       8.16418367e+00, 1.02049796e+01, 1.22457755e+01, 1.42865714e+01,\n",
       "       1.63273673e+01, 1.83681633e+01, 2.0408959...\n",
       "       5.71432857e+01, 5.91840816e+01, 6.12248776e+01, 6.32656735e+01,\n",
       "       6.53064694e+01, 6.73472653e+01, 6.93880612e+01, 7.14288571e+01,\n",
       "       7.34696531e+01, 7.55104490e+01, 7.75512449e+01, 7.95920408e+01,\n",
       "       8.16328367e+01, 8.36736327e+01, 8.57144286e+01, 8.77552245e+01,\n",
       "       8.97960204e+01, 9.18368163e+01, 9.38776122e+01, 9.59184082e+01,\n",
       "       9.79592041e+01, 1.00000000e+02]),\n",
       "                         'logistic_regression__penalty': ['l1', 'l2']},\n",
       "             scoring='recall', verbose=True)"
      ]
     },
     "execution_count": 50,
     "metadata": {},
     "output_type": "execute_result"
    }
   ],
   "source": [
    "grid.fit(X_train,y_train)"
   ]
  },
  {
   "cell_type": "code",
   "execution_count": 51,
   "id": "8fbcf4bb",
   "metadata": {},
   "outputs": [
    {
     "data": {
      "text/plain": [
       "{'logistic_regression__C': 0.001, 'logistic_regression__penalty': 'l2'}"
      ]
     },
     "execution_count": 51,
     "metadata": {},
     "output_type": "execute_result"
    }
   ],
   "source": [
    "grid.best_params_"
   ]
  },
  {
   "cell_type": "code",
   "execution_count": 52,
   "id": "8c2a6a49",
   "metadata": {},
   "outputs": [],
   "source": [
    "y_pred = grid.predict(X_test)"
   ]
  },
  {
   "cell_type": "code",
   "execution_count": 53,
   "id": "24927acb",
   "metadata": {},
   "outputs": [
    {
     "name": "stdout",
     "output_type": "stream",
     "text": [
      "Actual Label:     [1, 1, 0, 1, 1, 0, 0, 0, 0, 1]\n",
      "Predicted Label:  [1, 1, 0, 1, 1, 0, 0, 0, 0, 0]\n"
     ]
    }
   ],
   "source": [
    "print(\"Actual Label:    \",list(y_test[10:20].astype('int32')))\n",
    "print(\"Predicted Label: \",list(y_pred[10:20].astype('int32')))"
   ]
  },
  {
   "cell_type": "code",
   "execution_count": 58,
   "id": "ad074590",
   "metadata": {},
   "outputs": [],
   "source": [
    "from sklearn.metrics import classification_report, confusion_matrix, roc_auc_score, r2_score, accuracy_score"
   ]
  },
  {
   "cell_type": "code",
   "execution_count": 55,
   "id": "7726741c",
   "metadata": {},
   "outputs": [
    {
     "name": "stdout",
     "output_type": "stream",
     "text": [
      "Confusion Matrix: \n",
      " [[17  0]\n",
      " [ 2 15]]\n"
     ]
    }
   ],
   "source": [
    "print(\"Confusion Matrix: \\n\", confusion_matrix(y_test,y_pred))\n"
   ]
  },
  {
   "cell_type": "code",
   "execution_count": 56,
   "id": "bf526439",
   "metadata": {},
   "outputs": [
    {
     "data": {
      "image/png": "[encoded data removed]",
      "text/plain": [
       "<Figure size 360x360 with 1 Axes>"
      ]
     },
     "metadata": {},
     "output_type": "display_data"
    }
   ],
   "source": [
    "fig, ax = plt.subplots(figsize=(5,5))\n",
    "ax=sns.heatmap(confusion_matrix(y_test,y_pred), annot=True,fmt='d', annot_kws={'size': 15,\"weight\":\"bold\"},cbar=False)\n",
    "ax.set_ylabel(\"Predicted\", fontsize = 25)\n",
    "ax.set_xlabel(\"Actual\", fontsize = 25);"
   ]
  },
  {
   "cell_type": "code",
   "execution_count": 59,
   "id": "6a666b71",
   "metadata": {},
   "outputs": [
    {
     "name": "stdout",
     "output_type": "stream",
     "text": [
      "\n",
      "Classification Report:\n",
      "               precision    recall  f1-score   support\n",
      "\n",
      "           0       0.89      1.00      0.94        17\n",
      "           1       1.00      0.88      0.94        17\n",
      "\n",
      "    accuracy                           0.94        34\n",
      "   macro avg       0.95      0.94      0.94        34\n",
      "weighted avg       0.95      0.94      0.94        34\n",
      "\n",
      "\n",
      "ROC AUC Score:  0.9411764705882353\n",
      "\n",
      "R^2 Score:  0.7614035087719299\n",
      "\n",
      "Accuracy Score:  0.9411764705882353\n"
     ]
    }
   ],
   "source": [
    "print(\"\\nClassification Report:\\n\", classification_report(y_test,y_pred))\n",
    "print(\"\\nROC AUC Score: \",roc_auc_score(y_test,y_pred))\n",
    "print(\"\\nR^2 Score: \",r2_score(y_pred,y_test))\n",
    "print(\"\\nAccuracy Score: \", accuracy_score(y_test,y_pred))"
   ]
  },
  {
   "cell_type": "code",
   "execution_count": 60,
   "id": "3b31b532",
   "metadata": {},
   "outputs": [],
   "source": [
    "from sklearn.neighbors import KNeighborsClassifier"
   ]
  },
  {
   "cell_type": "code",
   "execution_count": 66,
   "id": "899917dc",
   "metadata": {},
   "outputs": [],
   "source": [
    "# to optimize value of K\n",
    "\n",
    "max_k = 40\n",
    "for k in range(1,max_k):\n",
    "    knn = KNeighborsClassifier(n_neighbors=k, weights='distance')\n",
    "    knn = knn.fit(X_train,y_train)\n",
    "    \n",
    "    y_pred = knn.predict(X_test)\n"
   ]
  },
  {
   "cell_type": "code",
   "execution_count": 67,
   "id": "17d534a4",
   "metadata": {},
   "outputs": [
    {
     "name": "stdout",
     "output_type": "stream",
     "text": [
      "Actual Label:     [1, 1, 0, 1, 1, 0, 0, 0, 0, 1]\n",
      "Predicted Label:  [1, 1, 0, 1, 1, 0, 0, 0, 0, 0]\n"
     ]
    }
   ],
   "source": [
    "print(\"Actual Label:    \",list(y_test[10:20].astype('int32')))\n",
    "print(\"Predicted Label: \",list(y_pred[10:20].astype('int32')))"
   ]
  },
  {
   "cell_type": "code",
   "execution_count": 69,
   "id": "d01299d7",
   "metadata": {},
   "outputs": [
    {
     "name": "stdout",
     "output_type": "stream",
     "text": [
      "Confusion Matrix: \n",
      " [[17  0]\n",
      " [ 2 15]]\n"
     ]
    }
   ],
   "source": [
    "print(\"Confusion Matrix: \\n\", confusion_matrix(y_test,y_pred))"
   ]
  },
  {
   "cell_type": "code",
   "execution_count": 70,
   "id": "f1fb7e3d",
   "metadata": {},
   "outputs": [
    {
     "name": "stdout",
     "output_type": "stream",
     "text": [
      "\n",
      "Classification Report:\n",
      "               precision    recall  f1-score   support\n",
      "\n",
      "           0       0.89      1.00      0.94        17\n",
      "           1       1.00      0.88      0.94        17\n",
      "\n",
      "    accuracy                           0.94        34\n",
      "   macro avg       0.95      0.94      0.94        34\n",
      "weighted avg       0.95      0.94      0.94        34\n",
      "\n",
      "\n",
      "ROC AUC Score:  0.9411764705882353\n",
      "\n",
      "R^2 Score:  0.7614035087719299\n",
      "\n",
      "Accuracy Score:  0.9411764705882353\n"
     ]
    }
   ],
   "source": [
    "print(\"\\nClassification Report:\\n\", classification_report(y_test,y_pred))\n",
    "print(\"\\nROC AUC Score: \",roc_auc_score(y_test,y_pred))\n",
    "print(\"\\nR^2 Score: \",r2_score(y_pred,y_test))\n",
    "print(\"\\nAccuracy Score: \", accuracy_score(y_test,y_pred))"
   ]
  },
  {
   "cell_type": "code",
   "execution_count": 71,
   "id": "128c821a",
   "metadata": {},
   "outputs": [],
   "source": [
    "from sklearn.ensemble import RandomForestClassifier"
   ]
  },
  {
   "cell_type": "code",
   "execution_count": 72,
   "id": "5f3ffd56",
   "metadata": {},
   "outputs": [],
   "source": [
    "estimator = RandomForestClassifier(n_estimators=300)\n",
    "params = {'max_depth': range(5,20),\n",
    "          'min_samples_split': np.arange(2,10)}\n",
    "\n",
    "grid = GridSearchCV(estimator, params, cv=5, verbose=True, n_jobs=-1, scoring='f1')"
   ]
  },
  {
   "cell_type": "code",
   "execution_count": 73,
   "id": "e6e51a13",
   "metadata": {
    "scrolled": true
   },
   "outputs": [
    {
     "name": "stdout",
     "output_type": "stream",
     "text": [
      "Fitting 5 folds for each of 120 candidates, totalling 600 fits\n"
     ]
    },
    {
     "data": {
      "text/plain": [
       "GridSearchCV(cv=5, estimator=RandomForestClassifier(n_estimators=300),\n",
       "             n_jobs=-1,\n",
       "             param_grid={'max_depth': range(5, 20),\n",
       "                         'min_samples_split': array([2, 3, 4, 5, 6, 7, 8, 9])},\n",
       "             scoring='f1', verbose=True)"
      ]
     },
     "execution_count": 73,
     "metadata": {},
     "output_type": "execute_result"
    }
   ],
   "source": [
    "grid.fit(X_train,y_train)"
   ]
  },
  {
   "cell_type": "code",
   "execution_count": 75,
   "id": "de7a589d",
   "metadata": {},
   "outputs": [
    {
     "data": {
      "text/plain": [
       "{'max_depth': 5, 'min_samples_split': 2}"
      ]
     },
     "execution_count": 75,
     "metadata": {},
     "output_type": "execute_result"
    }
   ],
   "source": [
    "grid.best_params_"
   ]
  },
  {
   "cell_type": "code",
   "execution_count": 80,
   "id": "d4d438a9",
   "metadata": {},
   "outputs": [],
   "source": [
    "y_pred = grid.predict(X_test)"
   ]
  },
  {
   "cell_type": "code",
   "execution_count": 81,
   "id": "0bbc2d25",
   "metadata": {},
   "outputs": [
    {
     "name": "stdout",
     "output_type": "stream",
     "text": [
      "Actual Label:     [1, 1, 0, 1, 1, 0, 0, 0, 0, 1]\n",
      "Predicted Label:  [1, 1, 0, 1, 1, 0, 0, 0, 0, 0]\n"
     ]
    }
   ],
   "source": [
    "print(\"Actual Label:    \",list(y_test[10:20].astype('int32')))\n",
    "print(\"Predicted Label: \",list(y_pred[10:20].astype('int32')))"
   ]
  },
  {
   "cell_type": "code",
   "execution_count": 82,
   "id": "79dc6029",
   "metadata": {},
   "outputs": [
    {
     "name": "stdout",
     "output_type": "stream",
     "text": [
      "Confusion Matrix: \n",
      " [[17  0]\n",
      " [ 2 15]]\n"
     ]
    }
   ],
   "source": [
    "print(\"Confusion Matrix: \\n\", confusion_matrix(y_test,y_pred))"
   ]
  },
  {
   "cell_type": "code",
   "execution_count": 84,
   "id": "3cd68017",
   "metadata": {},
   "outputs": [
    {
     "name": "stdout",
     "output_type": "stream",
     "text": [
      "\n",
      "Classification Report:\n",
      "               precision    recall  f1-score   support\n",
      "\n",
      "           0       0.89      1.00      0.94        17\n",
      "           1       1.00      0.88      0.94        17\n",
      "\n",
      "    accuracy                           0.94        34\n",
      "   macro avg       0.95      0.94      0.94        34\n",
      "weighted avg       0.95      0.94      0.94        34\n",
      "\n",
      "\n",
      "ROC AUC Score:  0.9411764705882353\n",
      "\n",
      "R^2 Score:  0.7614035087719299\n",
      "\n",
      "Accuracy Score:  0.9411764705882353\n"
     ]
    }
   ],
   "source": [
    "print(\"\\nClassification Report:\\n\", classification_report(y_test,y_pred))\n",
    "print(\"\\nROC AUC Score: \",roc_auc_score(y_test,y_pred))\n",
    "print(\"\\nR^2 Score: \",r2_score(y_pred,y_test))\n",
    "print(\"\\nAccuracy Score: \", accuracy_score(y_test,y_pred))"
   ]
  },
  {
   "cell_type": "code",
   "execution_count": null,
   "id": "1ad4c710",
   "metadata": {},
   "outputs": [],
   "source": []
  }
 ],
 "metadata": {
  "kernelspec": {
   "display_name": "Python 3 (ipykernel)",
   "language": "python",
   "name": "python3"
  },
  "language_info": {
   "codemirror_mode": {
    "name": "ipython",
    "version": 3
   },
   "file_extension": ".py",
   "mimetype": "text/x-python",
   "name": "python",
   "nbconvert_exporter": "python",
   "pygments_lexer": "ipython3",
   "version": "3.9.7"
  }
 },
 "nbformat": 4,
 "nbformat_minor": 5
}
